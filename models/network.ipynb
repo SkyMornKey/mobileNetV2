{
 "cells": [
  {
   "cell_type": "markdown",
   "metadata": {},
   "source": [
    "# User Defined Network"
   ]
  },
  {
   "cell_type": "markdown",
   "metadata": {
    "heading_collapsed": true
   },
   "source": [
    "## Includes"
   ]
  },
  {
   "cell_type": "code",
   "execution_count": null,
   "metadata": {
    "code_folding": [
     0
    ],
    "hidden": true
   },
   "outputs": [],
   "source": [
    "# mass includes\n",
    "import torch as t\n",
    "from ipynb.fs.full.module import BasicModule"
   ]
  },
  {
   "cell_type": "markdown",
   "metadata": {},
   "source": [
    " ## MobileNetV2"
   ]
  },
  {
   "cell_type": "code",
   "execution_count": null,
   "metadata": {
    "code_folding": [
     0,
     21,
     42,
     60
    ]
   },
   "outputs": [],
   "source": [
    "class dpConv2d(BasicModule):\n",
    "    def __init__(self, in_channels, out_channels, stride, padding):\n",
    "        super(dpConv2d, self).__init__()\n",
    "        self.features = t.nn.Sequential(\n",
    "            t.nn.Conv2d(\n",
    "                in_channels,\n",
    "                in_channels,\n",
    "                3,\n",
    "                stride=stride,\n",
    "                padding=padding,\n",
    "                groups=in_channels,\n",
    "                bias=False), t.nn.BatchNorm2d(in_channels),\n",
    "            t.nn.ReLU(inplace=True),\n",
    "            t.nn.Conv2d(in_channels, out_channels, 1, bias=False),\n",
    "            t.nn.BatchNorm2d(out_channels))\n",
    "\n",
    "    def forward(self, x):\n",
    "\n",
    "        return self.features(x)\n",
    "\n",
    "\n",
    "class invertedResidual(BasicModule):\n",
    "    def __init__(self, in_channels, out_channels, stride):\n",
    "        super(invertedResidual, self).__init__()\n",
    "\n",
    "        inter_channels = in_channels * 6\n",
    "        self.features = t.nn.Sequential(\n",
    "            t.nn.Conv2d(in_channels, inter_channels, 1, bias=False),\n",
    "            t.nn.BatchNorm2d(inter_channels), t.nn.ReLU(inplace=True),\n",
    "            dpConv2d(inter_channels, out_channels, stride, 1))\n",
    "        if stride == 1 and in_channels == out_channels:\n",
    "            self.add_residual = True\n",
    "        else:\n",
    "            self.add_residual = False\n",
    "\n",
    "    def forward(self, x):\n",
    "        if self.add_residual:\n",
    "            return x + self.features(x)\n",
    "        else:\n",
    "            return self.features(x)\n",
    "\n",
    "\n",
    "class bottleNeck(BasicModule):\n",
    "    def __init__(self, in_channels, out_channels, stride, repeat):\n",
    "        super(bottleNeck, self).__init__()\n",
    "\n",
    "        layers = []\n",
    "        for index in range(0, repeat):\n",
    "            if index == 0:\n",
    "                layers.append(\n",
    "                    invertedResidual(in_channels, out_channels, stride))\n",
    "            else:\n",
    "                layers.append(invertedResidual(out_channels, out_channels, 1))\n",
    "        self.features = t.nn.Sequential(*layers)\n",
    "\n",
    "    def forward(self, x):\n",
    "\n",
    "        return self.features(x)\n",
    "\n",
    "\n",
    "class MobileNetV2(BasicModule):\n",
    "    def __init__(self, train=True):\n",
    "        super(MobileNetV2, self).__init__()\n",
    "        self.model_name = 'MobileNetV2'\n",
    "\n",
    "        # feature extraction layers\n",
    "        self.features = t.nn.Sequential(\n",
    "            # conv 1\n",
    "            t.nn.Conv2d(3, 32, 3, stride=2, padding=1, bias=False),\n",
    "            t.nn.BatchNorm2d(32),\n",
    "            t.nn.ReLU(inplace=True),\n",
    "            # block 2\n",
    "            dpConv2d(32, 16, 1, 1),\n",
    "            # block 3\n",
    "            bottleNeck(16, 24, 2, 2),\n",
    "            # block 4\n",
    "            bottleNeck(24, 32, 2, 3),\n",
    "            # block 5\n",
    "            bottleNeck(32, 64, 2, 4),\n",
    "            # block 6\n",
    "            bottleNeck(64, 96, 1, 3),\n",
    "            # block 7\n",
    "            bottleNeck(96, 160, 2, 3),\n",
    "            # block 8\n",
    "            bottleNeck(160, 320, 1, 1))\n",
    "\n",
    "        # classification layers\n",
    "        if train:\n",
    "            self.classifier_P1 = t.nn.Sequential(\n",
    "                # conv 9 (with dropout)\n",
    "                t.nn.Conv2d(320, 1280, 1, bias=False),\n",
    "                t.nn.BatchNorm2d(1280),\n",
    "                t.nn.ReLU(inplace=True),\n",
    "                t.nn.AvgPool2d(7, stride=1),\n",
    "                t.nn.Dropout(0.2))\n",
    "        else:\n",
    "            self.classifier_P1 = t.nn.Sequential(\n",
    "                # conv 9 (without dropout)\n",
    "                t.nn.Conv2d(320, 1280, 1, bias=False),\n",
    "                t.nn.BatchNorm2d(1280),\n",
    "                t.nn.ReLU(inplace=True),\n",
    "                t.nn.AvgPool2d(7, stride=1))\n",
    "\n",
    "        self.classifier_P2 = t.nn.Linear(1280, 1000)\n",
    "\n",
    "        # initialization\n",
    "        self.initLayers()\n",
    "\n",
    "    def forward(self, x):\n",
    "        x = self.features(x)\n",
    "        x = self.classifier_P1(x)\n",
    "        x = x.view(x.size(0), -1)\n",
    "        x = self.classifier_P2(x)\n",
    "        x = t.nn.functional.softmax(x, dim=1)\n",
    "\n",
    "        return x"
   ]
  }
 ],
 "metadata": {
  "kernelspec": {
   "display_name": "Python 3",
   "language": "python",
   "name": "python3"
  },
  "language_info": {
   "codemirror_mode": {
    "name": "ipython",
    "version": 3
   },
   "file_extension": ".py",
   "mimetype": "text/x-python",
   "name": "python",
   "nbconvert_exporter": "python",
   "pygments_lexer": "ipython3",
   "version": "3.5.2"
  }
 },
 "nbformat": 4,
 "nbformat_minor": 2
}
