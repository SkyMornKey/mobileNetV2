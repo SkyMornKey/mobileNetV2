{
 "cells": [
  {
   "cell_type": "markdown",
   "metadata": {},
   "source": [
    "# Network Testing"
   ]
  },
  {
   "cell_type": "markdown",
   "metadata": {},
   "source": [
    "## Includes"
   ]
  },
  {
   "cell_type": "code",
   "execution_count": null,
   "metadata": {
    "code_folding": [
     0
    ]
   },
   "outputs": [],
   "source": [
    "# mass includes\n",
    "import os, sys\n",
    "import ipdb\n",
    "import pickle\n",
    "import torch as t\n",
    "import torchvision as tv\n",
    "from PIL import Image\n",
    "\n",
    "# add paths for all sub-folders\n",
    "paths = [root for root, dirs, files in os.walk(\"./\")]\n",
    "for item in paths:\n",
    "    sys.path.append(item)\n",
    "\n",
    "from ipynb.fs.full.config import Config\n",
    "from ipynb.fs.full.network import MobileNetV2\n",
    "from ipynb.fs.full.util import *"
   ]
  },
  {
   "cell_type": "markdown",
   "metadata": {},
   "source": [
    "## Testing"
   ]
  },
  {
   "cell_type": "code",
   "execution_count": null,
   "metadata": {
    "code_folding": [
     0
    ],
    "scrolled": true
   },
   "outputs": [],
   "source": [
    "# for debugging only\n",
    "%pdb off\n",
    "\n",
    "# load data\n",
    "model_path = './saves/MobileNetV2_0114-230953.pth'\n",
    "input_path = './doge.jpg'\n",
    "\n",
    "# imageNet mean and std\n",
    "IMAGENET_MEAN = [0.485, 0.456, 0.406]\n",
    "IMAGENET_STD = [0.229, 0.224, 0.225]\n",
    "\n",
    "# class labels\n",
    "with open('./products/labels.pkl', 'rb') as pkl:\n",
    "    labels = pickle.load(pkl)\n",
    "\n",
    "# choose GPU if available\n",
    "device = t.device('cuda' if t.cuda.is_available() else 'cpu')\n",
    "\n",
    "# load pre-trained model\n",
    "opt = Config()\n",
    "model = MobileNetV2(train=False).to(device)\n",
    "model.load_state_dict(t.load(model_path, map_location=device))\n",
    "model.eval()\n",
    "\n",
    "# run network once\n",
    "transforms = tv.transforms.Compose([\n",
    "    tv.transforms.CenterCrop(opt.img_size),\n",
    "    tv.transforms.ToTensor(),\n",
    "    tv.transforms.Normalize(mean=IMAGENET_MEAN, std=IMAGENET_STD)\n",
    "])\n",
    "input_img = Image.open(input_path)\n",
    "input_img = transforms(input_img).to(device)\n",
    "with t.no_grad():\n",
    "    result = model(input_img.unsqueeze(0))\n",
    "    prob, index = t.max(result, 1)\n",
    "print([labels[index.item()], prob.item()])\n",
    "\n",
    "# export to onnx model and run intel optimizer\n",
    "save_path = os.path.join('./products', '%s.onnx' % model.model_name)\n",
    "t.onnx.export(\n",
    "    model,\n",
    "    input_img.unsqueeze(0),\n",
    "    save_path,\n",
    "    verbose=False,\n",
    "    input_names=['input_img'],\n",
    "    output_names=['result'])\n",
    "out_status = os.system(\n",
    "    'python3 /opt/intel/computer_vision_sdk/deployment_tools/model_optimizer/mo.py'\n",
    "    + ' --input_model ./products/%s.onnx --output_dir ./products' %\n",
    "    model.model_name + ' --mean_values input_img[%.3f,%.3f,%.3f]' %\n",
    "    (IMAGENET_MEAN[0] * 255, IMAGENET_MEAN[1] * 255, IMAGENET_MEAN[2] * 255) +\n",
    "    ' --scale_values input_img[%.3f,%.3f,%.3f]' %\n",
    "    (IMAGENET_STD[0] * 255, IMAGENET_STD[1] * 255, IMAGENET_STD[2] * 255))\n",
    "if out_status == 0:\n",
    "    print('Model conversion completed.')"
   ]
  }
 ],
 "metadata": {
  "kernelspec": {
   "display_name": "Python 3",
   "language": "python",
   "name": "python3"
  },
  "language_info": {
   "codemirror_mode": {
    "name": "ipython",
    "version": 3
   },
   "file_extension": ".py",
   "mimetype": "text/x-python",
   "name": "python",
   "nbconvert_exporter": "python",
   "pygments_lexer": "ipython3",
   "version": "3.5.2"
  }
 },
 "nbformat": 4,
 "nbformat_minor": 2
}
