{
 "cells": [
  {
   "cell_type": "markdown",
   "metadata": {},
   "source": [
    "# Prototype"
   ]
  },
  {
   "cell_type": "markdown",
   "metadata": {},
   "source": [
    "## Includes"
   ]
  },
  {
   "cell_type": "code",
   "execution_count": null,
   "metadata": {
    "code_folding": [
     0
    ]
   },
   "outputs": [],
   "source": [
    "# mass includes\n",
    "import time\n",
    "import pickle\n",
    "import cv2\n",
    "import numpy as np"
   ]
  },
  {
   "cell_type": "markdown",
   "metadata": {},
   "source": [
    "## Initialization"
   ]
  },
  {
   "cell_type": "code",
   "execution_count": null,
   "metadata": {
    "code_folding": [
     0
    ]
   },
   "outputs": [],
   "source": [
    "# setup camera\n",
    "camera = cv2.VideoCapture(0)\n",
    "camera.set(cv2.CAP_PROP_FRAME_WIDTH, 640)\n",
    "camera.set(cv2.CAP_PROP_FRAME_HEIGHT, 480)\n",
    "\n",
    "# load pretrained model\n",
    "model = cv2.dnn.readNet('MobileNetV2.xml', 'MobileNetV2.bin')\n",
    "\n",
    "# specify target device (VPU)\n",
    "model.setPreferableTarget(cv2.dnn.DNN_TARGET_MYRIAD)\n",
    "\n",
    "# load class labels\n",
    "with open('./labels.pkl', 'rb') as pkl:\n",
    "    labels = pickle.load(pkl)"
   ]
  },
  {
   "cell_type": "markdown",
   "metadata": {},
   "source": [
    "## Main loop"
   ]
  },
  {
   "cell_type": "code",
   "execution_count": null,
   "metadata": {
    "code_folding": [
     0
    ]
   },
   "outputs": [],
   "source": [
    "def main():\n",
    "    fps = 0.0\n",
    "\n",
    "    # infinit loop\n",
    "    while True:\n",
    "        # start time\n",
    "        start_time = time.time()\n",
    "\n",
    "        # read a frame\n",
    "        ret, frame = camera.read()\n",
    "\n",
    "        # preprocessing\n",
    "        input_blob = cv2.dnn.blobFromImage(\n",
    "            frame, size=(224, 224), swapRB=True, crop=True, ddepth=cv2.CV_8U)\n",
    "\n",
    "        # perform an inference\n",
    "        model.setInput(input_blob)\n",
    "        result = model.forward()\n",
    "        top3 = result.argsort()[0, -3:]\n",
    "\n",
    "        # mark label to frame\n",
    "        cv2.putText(frame, 'FPS: %.2f' % fps, (0, 475),\n",
    "                    cv2.FONT_HERSHEY_TRIPLEX, 1, (128, 128, 128), 2)\n",
    "        for index in range(0, 3):\n",
    "            label = labels[top3[index]]\n",
    "            prob = result[0, top3[index]]\n",
    "            if prob > 0.6:\n",
    "                color = (0, 255, 0)\n",
    "            elif prob > 0.3:\n",
    "                color = (0, 255, 255)\n",
    "            else:\n",
    "                color = (0, 0, 255)\n",
    "            cv2.putText(frame, '(%.2f) %s' % (prob * 100, label),\n",
    "                        (0, (index + 1) * 30), cv2.FONT_HERSHEY_TRIPLEX, 1,\n",
    "                        color, 2)\n",
    "\n",
    "        # show result on screen\n",
    "        cv2.imshow('Demo (press Q to exit)', frame)\n",
    "\n",
    "        # conditional exit (press Q)\n",
    "        if cv2.waitKey(1) & 0xFF == ord('q'):\n",
    "            break\n",
    "\n",
    "        # update FPS\n",
    "        fps = 1 / (time.time() - start_time)\n",
    "\n",
    "    # release the capture\n",
    "    camera.release()\n",
    "    cv2.destroyAllWindows()\n",
    "\n",
    "\n",
    "if __name__ == '__main__':\n",
    "    main()"
   ]
  }
 ],
 "metadata": {
  "kernelspec": {
   "display_name": "Python 3",
   "language": "python",
   "name": "python3"
  },
  "language_info": {
   "codemirror_mode": {
    "name": "ipython",
    "version": 3
   },
   "file_extension": ".py",
   "mimetype": "text/x-python",
   "name": "python",
   "nbconvert_exporter": "python",
   "pygments_lexer": "ipython3",
   "version": "3.5.2"
  }
 },
 "nbformat": 4,
 "nbformat_minor": 2
}
